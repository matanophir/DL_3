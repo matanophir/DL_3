{
 "cells": [
  {
   "cell_type": "markdown",
   "metadata": {},
   "source": [
    "$$\n",
    "\\newcommand{\\mat}[1]{\\boldsymbol {#1}}\n",
    "\\newcommand{\\mattr}[1]{\\boldsymbol {#1}^\\top}\n",
    "\\newcommand{\\matinv}[1]{\\boldsymbol {#1}^{-1}}\n",
    "\\newcommand{\\vec}[1]{\\boldsymbol {#1}}\n",
    "\\newcommand{\\vectr}[1]{\\boldsymbol {#1}^\\top}\n",
    "\\newcommand{\\rvar}[1]{\\mathrm {#1}}\n",
    "\\newcommand{\\rvec}[1]{\\boldsymbol{\\mathrm{#1}}}\n",
    "\\newcommand{\\diag}{\\mathop{\\mathrm {diag}}}\n",
    "\\newcommand{\\set}[1]{\\mathbb {#1}}\n",
    "\\newcommand{\\norm}[1]{\\left\\lVert#1\\right\\rVert}\n",
    "\\newcommand{\\pderiv}[2]{\\frac{\\partial #1}{\\partial #2}}\n",
    "\\newcommand{\\bb}[1]{\\boldsymbol{#1}}\n",
    "$$\n",
    "# Part 1: Sequence Models\n",
    "<a id=part1></a>"
   ]
  },
  {
   "cell_type": "markdown",
   "metadata": {},
   "source": [
    "In this part we will learn about working with text sequences using recurrent neural networks.\n",
    "We'll go from a raw text file all the way to a fully trained GRU-RNN model and generate works of art!"
   ]
  },
  {
   "cell_type": "code",
   "execution_count": 1,
   "metadata": {},
   "outputs": [],
   "source": [
    "import unittest\n",
    "import os\n",
    "import sys\n",
    "import pathlib\n",
    "import urllib\n",
    "import shutil\n",
    "import re\n",
    "\n",
    "import numpy as np\n",
    "import torch\n",
    "import matplotlib.pyplot as plt\n",
    "\n",
    "%load_ext autoreload\n",
    "%autoreload 2"
   ]
  },
  {
   "cell_type": "code",
   "execution_count": 2,
   "metadata": {},
   "outputs": [
    {
     "name": "stdout",
     "output_type": "stream",
     "text": [
      "Using device: cuda\n"
     ]
    }
   ],
   "source": [
    "test = unittest.TestCase()\n",
    "plt.rcParams.update({'font.size': 12})\n",
    "device = torch.device('cuda' if torch.cuda.is_available() else 'cpu')\n",
    "print('Using device:', device)"
   ]
  },
  {
   "cell_type": "markdown",
   "metadata": {},
   "source": [
    "## Text generation with a char-level RNN\n",
    "<a id=part1_1></a>"
   ]
  },
  {
   "cell_type": "markdown",
   "metadata": {},
   "source": [
    "### Obtaining the corpus\n",
    "<a id=part1_2></a>"
   ]
  },
  {
   "cell_type": "markdown",
   "metadata": {},
   "source": [
    "Let's begin by downloading a corpus containing all the works of William Shakespeare.\n",
    "Since he was very prolific, this corpus is fairly large and will provide us with enough data for\n",
    "obtaining impressive results."
   ]
  },
  {
   "cell_type": "code",
   "execution_count": 3,
   "metadata": {},
   "outputs": [
    {
     "name": "stdout",
     "output_type": "stream",
     "text": [
      "Corpus file /home/matan.ophir/.pytorch-datasets/shakespeare.txt exists, skipping download.\n"
     ]
    }
   ],
   "source": [
    "CORPUS_URL = 'https://github.com/cedricdeboom/character-level-rnn-datasets/raw/master/datasets/shakespeare.txt'\n",
    "DATA_DIR = pathlib.Path.home().joinpath('.pytorch-datasets')\n",
    "\n",
    "def download_corpus(out_path=DATA_DIR, url=CORPUS_URL, force=False):\n",
    "    pathlib.Path(out_path).mkdir(exist_ok=True)\n",
    "    out_filename = os.path.join(out_path, os.path.basename(url))\n",
    "    \n",
    "    if os.path.isfile(out_filename) and not force:\n",
    "        print(f'Corpus file {out_filename} exists, skipping download.')\n",
    "    else:\n",
    "        print(f'Downloading {url}...')\n",
    "        with urllib.request.urlopen(url) as response, open(out_filename, 'wb') as out_file:\n",
    "            shutil.copyfileobj(response, out_file)\n",
    "        print(f'Saved to {out_filename}.')\n",
    "    return out_filename\n",
    "    \n",
    "corpus_path = download_corpus()"
   ]
  },
  {
   "cell_type": "markdown",
   "metadata": {},
   "source": [
    "Load the text into memory and print a snippet:"
   ]
  },
  {
   "cell_type": "code",
   "execution_count": 4,
   "metadata": {},
   "outputs": [
    {
     "name": "stdout",
     "output_type": "stream",
     "text": [
      "Corpus length: 6347703 chars\n",
      "ALLS WELL THAT ENDS WELL\n",
      "\n",
      "by William Shakespeare\n",
      "\n",
      "Dramatis Personae\n",
      "\n",
      "  KING OF FRANCE\n",
      "  THE DUKE OF FLORENCE\n",
      "  BERTRAM, Count of Rousillon\n",
      "  LAFEU, an old lord\n",
      "  PAROLLES, a follower of Bertram\n",
      "  TWO FRENCH LORDS, serving with Bertram\n",
      "\n",
      "  STEWARD, Servant to the Countess of Rousillon\n",
      "  LAVACHE, a clown and Servant to the Countess of Rousillon\n",
      "  A PAGE, Servant to the Countess of Rousillon\n",
      "\n",
      "  COUNTESS OF ROUSILLON, mother to Bertram\n",
      "  HELENA, a gentlewoman protected by the Countess\n",
      "  A WIDOW OF FLORENCE.\n",
      "  DIANA, daughter to the Widow\n",
      "\n",
      "  VIOLENTA, neighbour and friend to the Widow\n",
      "  MARIANA, neighbour and friend to the Widow\n",
      "\n",
      "  Lords, Officers, Soldiers, etc., French and Florentine  \n",
      "\n",
      "SCENE:\n",
      "Rousillon; Paris; Florence; Marseilles\n",
      "\n",
      "ACT I. SCENE 1.\n",
      "Rousillon. The COUNT'S palace\n",
      "\n",
      "Enter BERTRAM, the COUNTESS OF ROUSILLON, HELENA, and LAFEU, all in black\n",
      "\n",
      "  COUNTESS. In delivering my son from me, I bury a second husband.\n",
      "  BERTRAM. And I in going, madam, weep o'er my father's death anew;\n",
      "    but I must attend his Majesty's command, to whom I am now in\n",
      "    ward, evermore in subjection.\n",
      "  LAFEU. You shall find of the King a husband, madam; you, sir, a\n",
      "    father. He that so generally is at all times good must of\n",
      "    \n"
     ]
    }
   ],
   "source": [
    "with open(corpus_path, 'r', encoding='utf-8') as f:\n",
    "    corpus = f.read()\n",
    "\n",
    "print(f'Corpus length: {len(corpus)} chars')\n",
    "print(corpus[7:1234])"
   ]
  },
  {
   "cell_type": "markdown",
   "metadata": {},
   "source": [
    "### Data Preprocessing\n",
    "<a id=part1_3></a>"
   ]
  },
  {
   "cell_type": "markdown",
   "metadata": {},
   "source": [
    "The first thing we'll need is to map from each unique character in the corpus to an index that will represent it in our learning process.\n",
    "\n",
    "**TODO**: Implement the `char_maps()` function in the `hw3/charnn.py` module."
   ]
  },
  {
   "cell_type": "code",
   "execution_count": 5,
   "metadata": {},
   "outputs": [
    {
     "name": "stdout",
     "output_type": "stream",
     "text": [
      "{'\\n': 0, ' ': 1, '!': 2, '\"': 3, '$': 4, '&': 5, \"'\": 6, '(': 7, ')': 8, ',': 9, '-': 10, '.': 11, '0': 12, '1': 13, '2': 14, '3': 15, '4': 16, '5': 17, '6': 18, '7': 19, '8': 20, '9': 21, ':': 22, ';': 23, '<': 24, '?': 25, 'A': 26, 'B': 27, 'C': 28, 'D': 29, 'E': 30, 'F': 31, 'G': 32, 'H': 33, 'I': 34, 'J': 35, 'K': 36, 'L': 37, 'M': 38, 'N': 39, 'O': 40, 'P': 41, 'Q': 42, 'R': 43, 'S': 44, 'T': 45, 'U': 46, 'V': 47, 'W': 48, 'X': 49, 'Y': 50, 'Z': 51, '[': 52, ']': 53, '_': 54, 'a': 55, 'b': 56, 'c': 57, 'd': 58, 'e': 59, 'f': 60, 'g': 61, 'h': 62, 'i': 63, 'j': 64, 'k': 65, 'l': 66, 'm': 67, 'n': 68, 'o': 69, 'p': 70, 'q': 71, 'r': 72, 's': 73, 't': 74, 'u': 75, 'v': 76, 'w': 77, 'x': 78, 'y': 79, 'z': 80, '}': 81, '\\ufeff': 82}\n"
     ]
    }
   ],
   "source": [
    "import hw3.charnn as charnn\n",
    "\n",
    "char_to_idx, idx_to_char = charnn.char_maps(corpus)\n",
    "print(char_to_idx)\n",
    "\n",
    "test.assertEqual(len(char_to_idx), len(idx_to_char))\n",
    "test.assertSequenceEqual(list(char_to_idx.keys()), list(idx_to_char.values()))\n",
    "test.assertSequenceEqual(list(char_to_idx.values()), list(idx_to_char.keys()))"
   ]
  },
  {
   "cell_type": "markdown",
   "metadata": {},
   "source": [
    "Seems we have some strange characters in the corpus that are very rare and are probably due to mistakes.\n",
    "To reduce the length of each tensor we'll need to later represent our chars, it's best to remove them.\n",
    "\n",
    "**TODO**: Implement the `remove_chars()` function in the `hw3/charnn.py` module."
   ]
  },
  {
   "cell_type": "code",
   "execution_count": 6,
   "metadata": {},
   "outputs": [
    {
     "name": "stdout",
     "output_type": "stream",
     "text": [
      "Removed 34 chars\n"
     ]
    }
   ],
   "source": [
    "corpus, n_removed = charnn.remove_chars(corpus, ['}','$','_','<','\\ufeff'])\n",
    "print(f'Removed {n_removed} chars')\n",
    "\n",
    "# After removing the chars, re-create the mappings\n",
    "char_to_idx, idx_to_char = charnn.char_maps(corpus)"
   ]
  },
  {
   "cell_type": "markdown",
   "metadata": {},
   "source": [
    "The next thing we need is an **embedding** of the chracters.\n",
    "An embedding is a representation of each token from the sequence as a tensor.\n",
    "For a char-level RNN, our tokens will be chars and we can thus use the simplest possible embedding: encode each char as a **one-hot** tensor. In other words, each char will be represented\n",
    "as a tensor whos length is the total number of unique chars (`V`) which contains all zeros except at the index\n",
    "corresponding to that specific char.\n",
    "\n",
    "**TODO**: Implement the functions `chars_to_onehot()` and `onehot_to_chars()` in the `hw3/charnn.py` module."
   ]
  },
  {
   "cell_type": "code",
   "execution_count": 7,
   "metadata": {},
   "outputs": [
    {
     "name": "stdout",
     "output_type": "stream",
     "text": [
      "brine a maiden can season her praise in.\n",
      "   \n",
      "tensor([[0, 0, 0, 0, 0, 0, 0, 0, 0, 0, 0, 0, 0, 0, 0, 0, 0, 0, 0, 0, 0, 0, 0, 0,\n",
      "         0, 0, 0, 0, 0, 0, 0, 0, 0, 0, 0, 0, 0, 0, 0, 0, 0, 0, 0, 0, 0, 0, 0, 0,\n",
      "         0, 0, 0, 0, 0, 1, 0, 0, 0, 0, 0, 0, 0, 0, 0, 0, 0, 0, 0, 0, 0, 0, 0, 0,\n",
      "         0, 0, 0, 0, 0, 0],\n",
      "        [0, 0, 0, 0, 0, 0, 0, 0, 0, 0, 0, 0, 0, 0, 0, 0, 0, 0, 0, 0, 0, 0, 0, 0,\n",
      "         0, 0, 0, 0, 0, 0, 0, 0, 0, 0, 0, 0, 0, 0, 0, 0, 0, 0, 0, 0, 0, 0, 0, 0,\n",
      "         0, 0, 0, 0, 0, 0, 0, 0, 0, 0, 0, 0, 0, 0, 0, 0, 0, 0, 0, 0, 0, 1, 0, 0,\n",
      "         0, 0, 0, 0, 0, 0],\n",
      "        [0, 0, 0, 0, 0, 0, 0, 0, 0, 0, 0, 0, 0, 0, 0, 0, 0, 0, 0, 0, 0, 0, 0, 0,\n",
      "         0, 0, 0, 0, 0, 0, 0, 0, 0, 0, 0, 0, 0, 0, 0, 0, 0, 0, 0, 0, 0, 0, 0, 0,\n",
      "         0, 0, 0, 0, 0, 0, 0, 0, 0, 0, 0, 0, 1, 0, 0, 0, 0, 0, 0, 0, 0, 0, 0, 0,\n",
      "         0, 0, 0, 0, 0, 0]], dtype=torch.int8)\n"
     ]
    }
   ],
   "source": [
    "# Wrap the actual embedding functions for calling convenience\n",
    "def embed(text):\n",
    "    return charnn.chars_to_onehot(text, char_to_idx)\n",
    "\n",
    "def unembed(embedding):\n",
    "    return charnn.onehot_to_chars(embedding, idx_to_char)\n",
    "\n",
    "text_snippet = corpus[3104:3148]\n",
    "print(text_snippet)\n",
    "print(embed(text_snippet[0:3]))\n",
    "\n",
    "test.assertEqual(text_snippet, unembed(embed(text_snippet)))\n",
    "test.assertEqual(embed(text_snippet).dtype, torch.int8)"
   ]
  },
  {
   "cell_type": "markdown",
   "metadata": {},
   "source": [
    "### Dataset Creation\n",
    "<a id=part1_4></a>"
   ]
  },
  {
   "cell_type": "markdown",
   "metadata": {},
   "source": [
    "We wish to train our model to generate text by constantly predicting what the next char should be based on the past.\n",
    "To that end we'll need to train our recurrent network in a way similar to a classification task. At each timestep, we input a char and get the expected output (label) to be the next char in the original sequence.\n",
    "\n",
    "We will split our corpus into shorter sequences of length `S` chars (see question below).\n",
    "Each **sample** we provide our model with will therefore be a tensor of shape `(S,V)` where `V` is the embedding dimension. Our model will operate sequentially on each char in the sequence.\n",
    "For each sample, we'll also need a **label**. This is simply another sequence, shifted by one char so that the label of each char is the next char in the corpus."
   ]
  },
  {
   "cell_type": "markdown",
   "metadata": {},
   "source": [
    "**TODO**: Implement the `chars_to_labelled_samples()` function in the `hw3/charnn.py` module."
   ]
  },
  {
   "cell_type": "code",
   "execution_count": 8,
   "metadata": {},
   "outputs": [
    {
     "name": "stdout",
     "output_type": "stream",
     "text": [
      "samples shape: torch.Size([99182, 64, 78])\n",
      "labels shape: torch.Size([99182, 64])\n"
     ]
    }
   ],
   "source": [
    "# Create dataset of sequences\n",
    "seq_len = 64\n",
    "vocab_len = len(char_to_idx)\n",
    "\n",
    "# Create labelled samples\n",
    "samples, labels = charnn.chars_to_labelled_samples(corpus, char_to_idx, seq_len, device)\n",
    "print(f'samples shape: {samples.shape}')\n",
    "print(f'labels shape: {labels.shape}')\n",
    "\n",
    "# Test shapes\n",
    "num_samples = (len(corpus) - 1) // seq_len\n",
    "test.assertEqual(samples.shape, (num_samples, seq_len, vocab_len))\n",
    "test.assertEqual(labels.shape, (num_samples, seq_len))\n",
    "\n",
    "# Test content\n",
    "for _ in range(1000):\n",
    "    # random sample\n",
    "    i = np.random.randint(num_samples, size=(1,))[0]\n",
    "    # Compare to corpus\n",
    "    test.assertEqual(unembed(samples[i]), corpus[i*seq_len:(i+1)*seq_len], msg=f\"content mismatch in sample {i}\")\n",
    "    # Compare to labels\n",
    "    sample_text = unembed(samples[i])\n",
    "    label_text = str.join('', [idx_to_char[j.item()] for j in labels[i]])\n",
    "    test.assertEqual(sample_text[1:], label_text[0:-1], msg=f\"label mismatch in sample {i}\")"
   ]
  },
  {
   "cell_type": "markdown",
   "metadata": {},
   "source": [
    "Let's print a few consecutive samples. You should see that the text continues between them."
   ]
  },
  {
   "cell_type": "code",
   "execution_count": 9,
   "metadata": {},
   "outputs": [
    {
     "name": "stdout",
     "output_type": "stream",
     "text": [
      "sample [49792]:\n",
      "\tck the hour. I will prevent this, detect my wife, be reveng'\n",
      "sample [49793]:\n",
      "\td on Falstaff, and laugh at Page. I will about it; better th\n",
      "sample [49794]:\n",
      "\tree hours too soon than a minute too late. Fie, fie, fie! cu\n",
      "sample [49795]:\n",
      "\tckold! cuckold! cuckold! Exit SCENE 3. A field near Windso\n",
      "sample [49796]:\n",
      "\tr Enter CAIUS and RUGBY CAIUS. Jack Rugby! RUGBY. Sir? C\n"
     ]
    }
   ],
   "source": [
    "import re\n",
    "import random\n",
    "\n",
    "i = random.randrange(num_samples-5)\n",
    "for i in range(i, i+5):\n",
    "    test.assertEqual(len(samples[i]), seq_len)\n",
    "    s = re.sub(r'\\s+', ' ', unembed(samples[i])).strip()\n",
    "    print(f'sample [{i}]:\\n\\t{s}')"
   ]
  },
  {
   "cell_type": "markdown",
   "metadata": {},
   "source": [
    "As usual, instead of feeding one sample at a time into our model's forward we'll work with **batches** of samples. This means that at every timestep, our model will operate on a batch of chars that are from **different sequences**.\n",
    "Effectively this will allow us to parallelize training our model by dong matrix-matrix multiplications\n",
    "instead of matrix-vector during the forward pass."
   ]
  },
  {
   "cell_type": "markdown",
   "metadata": {},
   "source": [
    "An important nuance is that we need the batches to be **contiguous**, i.e. sample $k$ in batch $j$ should continue sample $k$ from batch $j-1$.\n",
    "The following figure illustrates this:\n",
    "\n",
    "<img src=\"imgs/rnn-batching.png\"/>\n",
    "\n",
    "If we naïvely take consecutive samples into batches, e.g. `[0,1,...,B-1]`, `[B,B+1,...,2B-1]` and so on, we won't have contiguous\n",
    "sequences at the same index between adjacent batches.\n",
    "\n",
    "To accomplish this we need to tell our `DataLoader` which samples to combine together into one batch.\n",
    "We do this by implementing a custom PyTorch `Sampler`, and providing it to our `DataLoader`."
   ]
  },
  {
   "cell_type": "markdown",
   "metadata": {},
   "source": [
    "**TODO**: Implement the `SequenceBatchSampler` class in the `hw3/charnn.py` module."
   ]
  },
  {
   "cell_type": "code",
   "execution_count": 10,
   "metadata": {},
   "outputs": [
    {
     "name": "stdout",
     "output_type": "stream",
     "text": [
      "sampler_idx =\n",
      " [0, 3, 6, 9, 12, 15, 18, 21, 24, 27, 1, 4, 7, 10, 13, 16, 19, 22, 25, 28, 2, 5, 8, 11, 14, 17, 20, 23, 26, 29]\n"
     ]
    }
   ],
   "source": [
    "from hw3.charnn import SequenceBatchSampler\n",
    "\n",
    "sampler = SequenceBatchSampler(dataset=range(32), batch_size=10)\n",
    "sampler_idx = list(sampler)\n",
    "print('sampler_idx =\\n', sampler_idx)\n",
    "\n",
    "# Test the Sampler\n",
    "test.assertEqual(len(sampler_idx), 30)\n",
    "batch_idx = np.array(sampler_idx).reshape(-1, 10)\n",
    "for k in range(10):\n",
    "    test.assertEqual(np.diff(batch_idx[:, k], n=2).item(), 0)"
   ]
  },
  {
   "cell_type": "markdown",
   "metadata": {},
   "source": [
    "Even though we're working with sequences, we can still use the standard PyTorch `Dataset`/`DataLoader` combo.\n",
    "For the dataset we can use a built-in class, `TensorDataset` to return tuples of `(sample, label)`\n",
    "from the `samples` and `labels` tensors we created above.\n",
    "The `DataLoader` will be provided with our custom `Sampler` so that it generates appropriate batches."
   ]
  },
  {
   "cell_type": "code",
   "execution_count": 11,
   "metadata": {},
   "outputs": [],
   "source": [
    "import torch.utils.data\n",
    "\n",
    "# Create DataLoader returning batches of samples.\n",
    "batch_size = 32\n",
    "\n",
    "ds_corpus = torch.utils.data.TensorDataset(samples, labels)\n",
    "sampler_corpus = SequenceBatchSampler(ds_corpus, batch_size)\n",
    "dl_corpus = torch.utils.data.DataLoader(ds_corpus, batch_size=batch_size, sampler=sampler_corpus, shuffle=False)"
   ]
  },
  {
   "cell_type": "markdown",
   "metadata": {},
   "source": [
    "Let's see what that gives us:"
   ]
  },
  {
   "cell_type": "code",
   "execution_count": 12,
   "metadata": {},
   "outputs": [
    {
     "name": "stdout",
     "output_type": "stream",
     "text": [
      "num batches: 3100\n",
      "shape of a batch of samples: torch.Size([32, 64, 78])\n",
      "shape of a batch of labels: torch.Size([32, 64])\n"
     ]
    }
   ],
   "source": [
    "print(f'num batches: {len(dl_corpus)}')\n",
    "\n",
    "x0, y0 = next(iter(dl_corpus))\n",
    "print(f'shape of a batch of samples: {x0.shape}')\n",
    "print(f'shape of a batch of labels: {y0.shape}')"
   ]
  },
  {
   "cell_type": "markdown",
   "metadata": {},
   "source": [
    "Now lets look at the same sample index from multiple batches taken from our corpus."
   ]
  },
  {
   "cell_type": "code",
   "execution_count": 13,
   "metadata": {},
   "outputs": [
    {
     "name": "stdout",
     "output_type": "stream",
     "text": [
      "=== batch 0, sample 18 (torch.Size([64, 78])): ===\n",
      "\tnstrous. Iago, who began't? MONTANO. If partially affined, or\n",
      "=== batch 1, sample 18 (torch.Size([64, 78])): ===\n",
      "\tleagued in office, Thou dost deliver more or less than truth\n",
      "=== batch 2, sample 18 (torch.Size([64, 78])): ===\n",
      "\t, Thou art no soldier. IAGO. Touch me not\n",
      "=== batch 3, sample 18 (torch.Size([64, 78])): ===\n",
      "\tso near: I had rather have this tongue cut from my mouth\n",
      "=== batch 4, sample 18 (torch.Size([64, 78])): ===\n",
      "\tThan it should do offense to Michael Cassio; Yet, I pers\n"
     ]
    }
   ],
   "source": [
    "# Check that sentences in in same index of different batches complete each other.\n",
    "k = random.randrange(batch_size)\n",
    "for j, (X, y) in enumerate(dl_corpus,):\n",
    "    print(f'=== batch {j}, sample {k} ({X[k].shape}): ===')\n",
    "    s = re.sub(r'\\s+', ' ', unembed(X[k])).strip()\n",
    "    print(f'\\t{s}')\n",
    "    if j==4: break"
   ]
  },
  {
   "cell_type": "markdown",
   "metadata": {},
   "source": [
    "### Model Implementation\n",
    "<a id=part1_5></a>"
   ]
  },
  {
   "cell_type": "markdown",
   "metadata": {},
   "source": [
    "Finally, our data set is ready so we can focus on our model.\n",
    "\n",
    "We'll implement here is a multilayer gated recurrent unit (GRU) model, with dropout.\n",
    "This model is a type of RNN which performs similar to the well-known LSTM model,\n",
    "but it's somewhat easier to train because it has less parameters.\n",
    "We'll modify the regular GRU slightly by applying dropout to\n",
    "the hidden states passed between layers of the model.\n",
    "\n",
    "The model accepts an input $\\mat{X}\\in\\set{R}^{S\\times V}$ containing a sequence of embedded chars.\n",
    "It returns an output $\\mat{Y}\\in\\set{R}^{S\\times V}$ of predictions for the next char and the final hidden state\n",
    "$\\mat{H}\\in\\set{R}^{L\\times H}$. Here $S$ is the sequence length, $V$ is the vocabulary size (number of unique chars), $L$ is the number of layers in the model and $H$ is the hidden dimension."
   ]
  },
  {
   "cell_type": "markdown",
   "metadata": {},
   "source": [
    "Mathematically, the model's forward function at layer $k\\in[1,L]$ and timestep $t\\in[1,S]$ can be described as\n",
    "\n",
    "$$\n",
    "\\begin{align}\n",
    "\\vec{z_t}^{[k]} &= \\sigma\\left(\\vec{x}^{[k]}_t {\\mattr{W}_{\\mathrm{xz}}}^{[k]} +\n",
    "    \\vec{h}_{t-1}^{[k]} {\\mattr{W}_{\\mathrm{hz}}}^{[k]} + \\vec{b}_{\\mathrm{z}}^{[k]}\\right) \\\\\n",
    "\\vec{r_t}^{[k]} &= \\sigma\\left(\\vec{x}^{[k]}_t {\\mattr{W}_{\\mathrm{xr}}}^{[k]} +\n",
    "    \\vec{h}_{t-1}^{[k]} {\\mattr{W}_{\\mathrm{hr}}}^{[k]} + \\vec{b}_{\\mathrm{r}}^{[k]}\\right) \\\\\n",
    "\\vec{g_t}^{[k]} &= \\tanh\\left(\\vec{x}^{[k]}_t {\\mattr{W}_{\\mathrm{xg}}}^{[k]} +\n",
    "    (\\vec{r_t}^{[k]}\\odot\\vec{h}_{t-1}^{[k]}) {\\mattr{W}_{\\mathrm{hg}}}^{[k]} + \\vec{b}_{\\mathrm{g}}^{[k]}\\right) \\\\\n",
    "\\vec{h_t}^{[k]} &= \\vec{z}^{[k]}_t \\odot \\vec{h}^{[k]}_{t-1} + \\left(1-\\vec{z}^{[k]}_t\\right)\\odot \\vec{g_t}^{[k]}\n",
    "\\end{align}\n",
    "$$"
   ]
  },
  {
   "cell_type": "markdown",
   "metadata": {},
   "source": [
    "The input to each layer is,\n",
    "$$\n",
    "\\mat{X}^{[k]} =\n",
    "\\begin{bmatrix}\n",
    "    {\\vec{x}_1}^{[k]} \\\\ \\vdots \\\\ {\\vec{x}_S}^{[k]}\n",
    "\\end{bmatrix} \n",
    "=\n",
    "\\begin{cases}\n",
    "    \\mat{X} & \\mathrm{if} ~k = 1~ \\\\\n",
    "    \\mathrm{dropout}_p \\left(\n",
    "    \\begin{bmatrix}\n",
    "        {\\vec{h}_1}^{[k-1]} \\\\ \\vdots \\\\ {\\vec{h}_S}^{[k-1]}\n",
    "    \\end{bmatrix} \\right) & \\mathrm{if} ~1 < k \\leq L+1~\n",
    "\\end{cases}.\n",
    "$$"
   ]
  },
  {
   "cell_type": "markdown",
   "metadata": {},
   "source": [
    "The output of the entire model is then,\n",
    "$$\n",
    "\\mat{Y} = \\mat{X}^{[L+1]} {\\mattr{W}_{\\mathrm{hy}}} + \\mat{B}_{\\mathrm{y}}\n",
    "$$"
   ]
  },
  {
   "cell_type": "markdown",
   "metadata": {},
   "source": [
    "and the final hidden state is\n",
    "$$\n",
    "\\mat{H} = \n",
    "\\begin{bmatrix}\n",
    "    {\\vec{h}_S}^{[1]} \\\\ \\vdots \\\\ {\\vec{h}_S}^{[L]}\n",
    "\\end{bmatrix}.\n",
    "$$"
   ]
  },
  {
   "cell_type": "markdown",
   "metadata": {},
   "source": [
    "Notes:\n",
    "- $t\\in[1,S]$ is the timestep, i.e. the current position within the sequence of each sample.\n",
    "- $\\vec{x}_t^{[k]}$ is the input of layer $k$ at timestep $t$, respectively.\n",
    "- The outputs of the **last layer** $\\vec{y}_t^{[L]}$, are the predicted next characters for every input char.\n",
    "  These are similar to class scores in classification tasks.\n",
    "- The hidden states at the **last timestep**, $\\vec{h}_S^{[k]}$, are the final hidden state returned from the model.\n",
    "- $\\sigma(\\cdot)$ is the sigmoid function, i.e. $\\sigma(\\vec{z}) = 1/(1+e^{-\\vec{z}})$ which returns values in $(0,1)$.\n",
    "- $\\tanh(\\cdot)$ is the hyperbolic tangent, i.e. $\\tanh(\\vec{z}) = (e^{2\\vec{z}}-1)/(e^{2\\vec{z}}+1)$ which returns values in $(-1,1)$.\n",
    "- $\\vec{h_t}^{[k]}$ is the hidden state of layer $k$ at time $t$. This can be thought of as the memory of that layer.\n",
    "- $\\vec{g_t}^{[k]}$ is the candidate hidden state for time $t+1$.\n",
    "- $\\vec{z_t}^{[k]}$ is known as the update gate. It combines the previous state with the input to determine how much the current state will be combined with the new candidate state. For example, if $\\vec{z_t}^{[k]}=\\vec{1}$ then the current input has no effect on the output.\n",
    "- $\\vec{r_t}^{[k]}$ is known as the reset gate. It combines the previous state with the input to determine how much of the previous state will affect the current state candidate. For example if $\\vec{r_t}^{[k]}=\\vec{0}$ the previous state has no effect on the current candidate state."
   ]
  },
  {
   "cell_type": "markdown",
   "metadata": {},
   "source": [
    "Here's a graphical representation of the GRU's forward pass at each timestep. The $\\vec{\\tilde{h}}$ in the image is our $\\vec{g}$ (candidate next state).\n",
    "\n",
    "<img src=\"imgs/gru_cell.png\" width=\"400\"/>\n",
    "\n",
    "You can see how the reset and update gates allow the model to completely ignore it's previous state, completely ignore it's input, or any mixture of those states (since the gates are actually continuous and between $(0,1)$)."
   ]
  },
  {
   "cell_type": "markdown",
   "metadata": {},
   "source": [
    "Here's a graphical representation of the entire model.\n",
    "You can ignore the $c_t^{[k]}$ (cell state) variables (which are relevant for LSTM models).\n",
    "Our model has only the hidden state, $h_t^{[k]}$. Also notice that we added dropout between layers (i.e., on the up arrows).\n",
    "\n",
    "<img src=\"imgs/lstm_model.png\" />\n",
    "\n",
    "The purple tensors are inputs (a sequence and initial hidden state per layer), and the green tensors are outputs (another sequence and final hidden state per layer). Each blue block implements the above forward equations.\n",
    "Blocks that are on the same vertical level are at the same layer, and therefore share parameters."
   ]
  },
  {
   "cell_type": "markdown",
   "metadata": {},
   "source": [
    "**TODO**:implement `MultilayerGRU` class in the `hw3/charnn.py` module.\n",
    "\n",
    "\n",
    "Notes:\n",
    "- We use **batches** now.\n",
    "  The math is identical to the above, but all the tensors will have an extra batch \n",
    "  dimension as their first dimension.\n",
    "- Read the diagram above, try to understand all the dimentions.\n"
   ]
  },
  {
   "cell_type": "code",
   "execution_count": 14,
   "metadata": {},
   "outputs": [
    {
     "name": "stdout",
     "output_type": "stream",
     "text": [
      "MultilayerGRU(\n",
      "  (layer_0_w_xz): Linear(in_features=78, out_features=256, bias=False)\n",
      "  (layer_0_w_hz): Linear(in_features=256, out_features=256, bias=True)\n",
      "  (layer_0_w_xr): Linear(in_features=78, out_features=256, bias=False)\n",
      "  (layer_0_w_hr): Linear(in_features=256, out_features=256, bias=True)\n",
      "  (layer_0_w_xg): Linear(in_features=78, out_features=256, bias=False)\n",
      "  (layer_0_w_hg): Linear(in_features=256, out_features=256, bias=True)\n",
      "  (layer_1_w_xz): Linear(in_features=256, out_features=256, bias=False)\n",
      "  (layer_1_w_hz): Linear(in_features=256, out_features=256, bias=True)\n",
      "  (layer_1_w_xr): Linear(in_features=256, out_features=256, bias=False)\n",
      "  (layer_1_w_hr): Linear(in_features=256, out_features=256, bias=True)\n",
      "  (layer_1_w_xg): Linear(in_features=256, out_features=256, bias=False)\n",
      "  (layer_1_w_hg): Linear(in_features=256, out_features=256, bias=True)\n",
      "  (layer_2_w_xz): Linear(in_features=256, out_features=256, bias=False)\n",
      "  (layer_2_w_hz): Linear(in_features=256, out_features=256, bias=True)\n",
      "  (layer_2_w_xr): Linear(in_features=256, out_features=256, bias=False)\n",
      "  (layer_2_w_hr): Linear(in_features=256, out_features=256, bias=True)\n",
      "  (layer_2_w_xg): Linear(in_features=256, out_features=256, bias=False)\n",
      "  (layer_2_w_hg): Linear(in_features=256, out_features=256, bias=True)\n",
      "  (w_hy): Linear(in_features=256, out_features=78, bias=True)\n",
      "  (dropout): Dropout(p=0, inplace=False)\n",
      "  (sigmoid): Sigmoid()\n",
      "  (tanh): Tanh()\n",
      ")\n",
      "y.shape=torch.Size([32, 64, 78])\n",
      "h.shape=torch.Size([32, 3, 256])\n"
     ]
    }
   ],
   "source": [
    "in_dim = vocab_len\n",
    "h_dim = 256\n",
    "n_layers = 3\n",
    "model = charnn.MultilayerGRU(in_dim, h_dim, out_dim=in_dim, n_layers=n_layers)\n",
    "model = model.to(device)\n",
    "print(model)\n",
    "\n",
    "# Test forward pass\n",
    "y, h = model(x0.to(dtype=torch.float, device=device))\n",
    "print(f'y.shape={y.shape}')\n",
    "print(f'h.shape={h.shape}')\n",
    "\n",
    "test.assertEqual(y.shape, (batch_size, seq_len, vocab_len))\n",
    "test.assertEqual(h.shape, (batch_size, n_layers, h_dim))\n",
    "test.assertEqual(len(list(model.parameters())), 9 * n_layers + 2) "
   ]
  },
  {
   "cell_type": "markdown",
   "metadata": {},
   "source": [
    "### Generating text by sampling\n",
    "<a id=part1_6></a>"
   ]
  },
  {
   "cell_type": "markdown",
   "metadata": {},
   "source": [
    "Now that we have a model, we can implement **text generation** based on it.\n",
    "The idea is simple:\n",
    "At each timestep our model receives one char $x_t$ from the input sequence and outputs scores $y_t$\n",
    "for what the next char should be.\n",
    "We'll convert these scores into a probability over each of the possible chars.\n",
    "In other words, for each input char $x_t$ we create a probability distribution for the next char\n",
    "conditioned on the current one and the state of the model (representing all previous inputs):\n",
    "$$p(x_{t+1}|x_t, \\vec{h}_t).$$\n",
    "\n",
    "Once we have such a distribution, we'll sample a char from it.\n",
    "This will be the first char of our generated sequence.\n",
    "Now we can feed this new char into the model, create another distribution, sample the next char and so on.\n",
    "Note that it's crucial to propagate the hidden state when sampling."
   ]
  },
  {
   "cell_type": "markdown",
   "metadata": {},
   "source": [
    "The important point however is how to create the distribution from the scores.\n",
    "One way, as we saw in previous ML tasks, is to use the softmax function.\n",
    "However, a drawback of softmax is that it can generate very diffuse (more uniform) distributions if the score values are very similar. When sampling, we would prefer to control the distributions and make them less uniform to increase the chance of sampling the char(s) with the highest scores compared to the others.\n",
    "\n",
    "To control the variance of the distribution, a common trick is to add a hyperparameter $T$, known as the \n",
    "*temperature* to the softmax function. The class scores are simply scaled by $T$ before softmax is applied:\n",
    "$$\n",
    "\\mathrm{softmax}_T(\\vec{y}) = \\frac{e^{\\vec{y}/T}}{\\sum_k e^{y_k/T}}\n",
    "$$\n",
    "\n",
    "A low $T$ will result in less uniform distributions and vice-versa."
   ]
  },
  {
   "cell_type": "markdown",
   "metadata": {},
   "source": [
    "**TODO**: Implement the `hot_softmax()` function in the `hw3/charnn.py` module."
   ]
  },
  {
   "cell_type": "code",
   "execution_count": 15,
   "metadata": {},
   "outputs": [
    {
     "data": {
      "image/png": "[encoded data removed]",
      "text/plain": [
       "<Figure size 1500x500 with 1 Axes>"
      ]
     },
     "metadata": {},
     "output_type": "display_data"
    }
   ],
   "source": [
    "scores = y[0,0,:].detach()\n",
    "_, ax = plt.subplots(figsize=(15,5))\n",
    "\n",
    "for t in reversed([0.3, 0.5, 1.0, 100]):\n",
    "    ax.plot(charnn.hot_softmax(scores, temperature=t).cpu().numpy(), label=f'T={t}')\n",
    "ax.set_xlabel('$x_{t+1}$')\n",
    "ax.set_ylabel('$p(x_{t+1}|x_t)$')\n",
    "ax.legend()\n",
    "\n",
    "uniform_proba = 1/len(char_to_idx)\n",
    "uniform_diff = torch.abs(charnn.hot_softmax(scores, temperature=100) - uniform_proba)\n",
    "test.assertTrue(torch.all(uniform_diff < 1e-4))"
   ]
  },
  {
   "cell_type": "markdown",
   "metadata": {},
   "source": [
    "**TODO**: Implement the `generate_from_model()` function in the `hw3/charnn.py` module."
   ]
  },
  {
   "cell_type": "code",
   "execution_count": 16,
   "metadata": {},
   "outputs": [
    {
     "name": "stdout",
     "output_type": "stream",
     "text": [
      "foobar5(G7kW,sQ[7mov:SLt35ro-D\n",
      "9W\"au\"2XxhWC?lP?Nva\n",
      "foobarj\n",
      "t)pl-:e9F,] bRJrDQTK&T.P?VdjZ:(7ljN-Ra8z[Y\n",
      "foobarG-vJK8,:ig9ESRVD;7HZtBR\n",
      "HPFH]I,9,ufkaAI6(L2E\n"
     ]
    }
   ],
   "source": [
    "for _ in range(3):\n",
    "    text = charnn.generate_from_model(model, \"foobar\", 50, (char_to_idx, idx_to_char), T=0.5)\n",
    "    print(text)\n",
    "    test.assertEqual(len(text), 50)"
   ]
  },
  {
   "cell_type": "markdown",
   "metadata": {},
   "source": [
    "### Training\n",
    "<a id=part1_7></a>"
   ]
  },
  {
   "cell_type": "markdown",
   "metadata": {},
   "source": [
    "To train this model, we'll calculate the loss at each time step by comparing the predicted char to\n",
    "the actual char from our label. We can use cross entropy since per char it's similar to a classification problem.\n",
    "We'll then sum the losses over the sequence and back-propagate the gradients though time.\n",
    "Notice that the back-propagation algorithm will \"visit\" each layer's parameter tensors multiple times,\n",
    "so we'll accumulate gradients in parameters of the blocks. Luckily `autograd` will handle this part for us."
   ]
  },
  {
   "cell_type": "markdown",
   "metadata": {},
   "source": [
    "As usual, the first step of training will be to try and **overfit** a large model (many parameters) to a tiny dataset.\n",
    "Again, this is to ensure the model and training code are implemented correctly, i.e. that the model can learn.\n",
    "\n",
    "For a generative model such as this, overfitting is slightly trickier than for classification.\n",
    "What we'll aim to do is to get our model to **memorize** a specific sequence of chars, so that when given the first\n",
    "char in the sequence it will immediately spit out the rest of the sequence verbatim.\n",
    "\n",
    "Let's create a tiny dataset to memorize."
   ]
  },
  {
   "cell_type": "code",
   "execution_count": 17,
   "metadata": {},
   "outputs": [
    {
     "name": "stdout",
     "output_type": "stream",
     "text": [
      "Text to \"memorize\":\n",
      "\n",
      "TRAM. What would you have?\n",
      "  HELENA. Something; and scarce so much; nothing, indeed.\n",
      "    I would not tell you what I would, my lord.\n",
      "    Faith, yes:\n",
      "    Strangers and foes do sunder and not kiss.\n",
      "  BERTRAM. I pray you, stay not, but in haste to horse.\n",
      "  HE\n"
     ]
    }
   ],
   "source": [
    "# Pick a tiny subset of the dataset\n",
    "subset_start, subset_end = 1001, 1005\n",
    "ds_corpus_ss = torch.utils.data.Subset(ds_corpus, range(subset_start, subset_end))\n",
    "batch_size_ss = 1\n",
    "sampler_ss = SequenceBatchSampler(ds_corpus_ss, batch_size=batch_size_ss)\n",
    "dl_corpus_ss = torch.utils.data.DataLoader(ds_corpus_ss, batch_size_ss, sampler=sampler_ss, shuffle=False)\n",
    "\n",
    "# Convert subset to text\n",
    "subset_text = ''\n",
    "for i in range(subset_end - subset_start):\n",
    "    subset_text += unembed(ds_corpus_ss[i][0])\n",
    "print(f'Text to \"memorize\":\\n\\n{subset_text}')"
   ]
  },
  {
   "cell_type": "markdown",
   "metadata": {},
   "source": [
    "Now let's implement the first part of our training code.\n",
    "\n",
    "**TODO**: Implement the `train_epoch()` and `train_batch()` methods of the `RNNTrainer` class in the `hw3/training.py` module. \n",
    "You must think about how to correctly handle the hidden state of the model between batches and epochs for this specific task (i.e. text generation)."
   ]
  },
  {
   "cell_type": "code",
   "execution_count": 18,
   "metadata": {},
   "outputs": [
    {
     "name": "stdout",
     "output_type": "stream",
     "text": [
      "\n",
      "Epoch #1: Avg. loss = 3.998, Accuracy = 17.58%\n",
      "Twn                                               n                                                                                                                                                                                                             \n",
      "\n",
      "Epoch #25: Avg. loss = 1.563, Accuracy = 53.12%\n",
      "TRAM. Whathing; and yould you would not yould yould you wou would yould you you yould you yould you wou you you you you you you you would you and you you you yould you you you you you you you you you you you you you tand you you you you you you you you you\n",
      "\n",
      "Epoch #50: Avg. loss = 0.041, Accuracy = 100.00%\n",
      "TRAM. What would you have?\n",
      "  HELENA. Something; and scarce so much; nothing, indeed.\n",
      "    I would not tell you what I would, my lord.\n",
      "    Faith, yes:\n",
      "    Strangers and foes do sunder and not kiss.\n",
      "  BERTRAM. I pray you, stay not, but in haste to horse.\n",
      "  HE\n"
     ]
    }
   ],
   "source": [
    "import torch.nn as nn\n",
    "import torch.optim as optim\n",
    "from hw3.training import RNNTrainer\n",
    "\n",
    "torch.manual_seed(42)\n",
    "\n",
    "lr = 0.01\n",
    "num_epochs = 500\n",
    "\n",
    "in_dim = vocab_len\n",
    "h_dim = 128\n",
    "n_layers = 2\n",
    "loss_fn = nn.CrossEntropyLoss()\n",
    "model = charnn.MultilayerGRU(in_dim, h_dim, out_dim=in_dim, n_layers=n_layers).to(device)\n",
    "optimizer = optim.Adam(model.parameters(), lr=lr)\n",
    "trainer = RNNTrainer(model, loss_fn, optimizer, device)\n",
    "\n",
    "for epoch in range(num_epochs):\n",
    "    epoch_result = trainer.train_epoch(dl_corpus_ss, verbose=False)\n",
    "    \n",
    "    # Every X epochs, we'll generate a sequence starting from the first char in the first sequence\n",
    "    # to visualize how/if/what the model is learning.\n",
    "    if epoch == 0 or (epoch+1) % 25 == 0:\n",
    "        avg_loss = np.mean(epoch_result.losses)\n",
    "        accuracy = np.mean(epoch_result.accuracy)\n",
    "        print(f'\\nEpoch #{epoch+1}: Avg. loss = {avg_loss:.3f}, Accuracy = {accuracy:.2f}%')\n",
    "        \n",
    "        generated_sequence = charnn.generate_from_model(model, subset_text[0],\n",
    "                                                        seq_len*(subset_end-subset_start),\n",
    "                                                        (char_to_idx,idx_to_char), T=0.1)\n",
    "        \n",
    "        # Stop if we've successfully memorized the small dataset.\n",
    "        print(generated_sequence)\n",
    "        if generated_sequence == subset_text:\n",
    "            break\n",
    "\n",
    "# Test successful overfitting\n",
    "test.assertGreater(epoch_result.accuracy, 99)\n",
    "test.assertEqual(generated_sequence, subset_text)"
   ]
  },
  {
   "cell_type": "markdown",
   "metadata": {},
   "source": [
    "OK, so training works - we can memorize a short sequence.\n",
    "We'll now train a much larger model on our large dataset. You'll need a GPU for this part.\n",
    "\n",
    "First, lets set up our dataset and models for training.\n",
    "We'll split our corpus into 90% train and 10% test-set.\n",
    "Also, we'll use a learning-rate scheduler to control the learning rate during training."
   ]
  },
  {
   "cell_type": "markdown",
   "metadata": {},
   "source": [
    "**TODO**: Set the hyperparameters in the `part1_rnn_hyperparams()` function of the `hw3/answers.py` module."
   ]
  },
  {
   "cell_type": "code",
   "execution_count": 19,
   "metadata": {},
   "outputs": [
    {
     "name": "stdout",
     "output_type": "stream",
     "text": [
      "hyperparams:\n",
      " {'batch_size': 64, 'seq_len': 64, 'h_dim': 256, 'n_layers': 2, 'dropout': 0.1, 'learn_rate': 0.001, 'lr_sched_factor': 0.5, 'lr_sched_patience': 5}\n",
      "Train: 1394 batches, 5709824 chars\n",
      "Test:  154 batches,  630784 chars\n"
     ]
    }
   ],
   "source": [
    "from hw3.answers import part1_rnn_hyperparams\n",
    "\n",
    "hp = part1_rnn_hyperparams()\n",
    "print('hyperparams:\\n', hp)\n",
    "\n",
    "### Dataset definition\n",
    "vocab_len = len(char_to_idx)\n",
    "batch_size = hp['batch_size']\n",
    "seq_len = hp['seq_len']\n",
    "train_test_ratio = 0.9\n",
    "num_samples = (len(corpus) - 1) // seq_len\n",
    "num_train = int(train_test_ratio * num_samples)\n",
    "\n",
    "samples, labels = charnn.chars_to_labelled_samples(corpus, char_to_idx, seq_len, device)\n",
    "\n",
    "ds_train = torch.utils.data.TensorDataset(samples[:num_train], labels[:num_train])\n",
    "sampler_train = SequenceBatchSampler(ds_train, batch_size)\n",
    "dl_train = torch.utils.data.DataLoader(ds_train, batch_size, shuffle=False, sampler=sampler_train, drop_last=True)\n",
    "\n",
    "ds_test = torch.utils.data.TensorDataset(samples[num_train:], labels[num_train:])\n",
    "sampler_test = SequenceBatchSampler(ds_test, batch_size)\n",
    "dl_test = torch.utils.data.DataLoader(ds_test, batch_size, shuffle=False, sampler=sampler_test, drop_last=True)\n",
    "\n",
    "print(f'Train: {len(dl_train):3d} batches, {len(dl_train)*batch_size*seq_len:7d} chars')\n",
    "print(f'Test:  {len(dl_test):3d} batches, {len(dl_test)*batch_size*seq_len:7d} chars')\n",
    "\n",
    "### Training definition\n",
    "in_dim = out_dim = vocab_len\n",
    "checkpoint_file = 'checkpoints/rnn'\n",
    "num_epochs = 50\n",
    "early_stopping = 5\n",
    "\n",
    "model = charnn.MultilayerGRU(in_dim, hp['h_dim'], out_dim, hp['n_layers'], hp['dropout'])\n",
    "loss_fn = nn.CrossEntropyLoss()\n",
    "optimizer = optim.Adam(model.parameters(), lr=hp['learn_rate'])\n",
    "scheduler = optim.lr_scheduler.ReduceLROnPlateau(\n",
    "    optimizer, mode='max', factor=hp['lr_sched_factor'], patience=hp['lr_sched_patience'], verbose=True\n",
    ")\n",
    "trainer = RNNTrainer(model, loss_fn, optimizer, device)"
   ]
  },
  {
   "cell_type": "markdown",
   "metadata": {},
   "source": [
    "The code blocks below will train the model and save checkpoints containing the training state and the best model parameters to a file. This allows you to stop training and resume it later from where you left.\n",
    "\n",
    "Note that you can use the `main.py` script provided within the assignment folder to run this notebook from the command line as if it were a python script by using the `run-nb` subcommand. This allows you to train your model using this notebook without starting jupyter. You can combine this with `srun` or `sbatch` to run the notebook with a GPU on the course servers."
   ]
  },
  {
   "cell_type": "markdown",
   "metadata": {},
   "source": [
    "**TODO**:\n",
    "- Implement the `fit()` method of the `Trainer` class. You can reuse the relevant implementation parts from HW2, but make sure to implement early stopping and checkpoints.\n",
    "- Implement the `test_epoch()` and `test_batch()` methods of the `RNNTrainer` class in the `hw3/training.py` module.\n",
    "- Run the following block to train.\n",
    "- When training is done and you're satisfied with the model's outputs, rename the checkpoint file to `checkpoints/rnn_final.pt`.\n",
    "  This will cause the block to skip training and instead load your saved model when running the homework submission script.\n",
    "  Note that your submission zip file will not include the checkpoint file. This is OK."
   ]
  },
  {
   "cell_type": "code",
   "execution_count": 20,
   "metadata": {},
   "outputs": [
    {
     "name": "stdout",
     "output_type": "stream",
     "text": [
      "ACT I.xgqb[nwv.EfEQvPeoTxX,.l Mvh0AvXFvZkBs58g\"ppO?EOs2co-&w4E0ii0bBzbHGaMJj;b qBpVZ3n-YT.\"&Xizh\n",
      "C)V\n",
      "--- EPOCH 1/50 ---\n",
      "train_batch (Avg. Loss 1.862, Accuracy 46.9): 100%|██████████| 1394/1394 [04:08<00:00,  5.61it/s]\n",
      "test_batch (Avg. Loss 1.664, Accuracy 50.2): 100%|██████████| 154/154 [00:09<00:00, 16.17it/s]\n",
      "*** Saved checkpoint checkpoints/rnn.pt at epoch 1\n",
      "ACT I.[CHERDENRENTHER]\n",
      "    I take you shall all the hand of the same of a\n",
      "    some to the world the \n",
      "--- EPOCH 2/50 ---\n",
      "train_batch (Avg. Loss 1.457, Accuracy 56.5): 100%|██████████| 1394/1394 [04:08<00:00,  5.60it/s]\n",
      "test_batch (Avg. Loss 1.507, Accuracy 54.6): 100%|██████████| 154/154 [00:09<00:00, 16.18it/s]\n",
      "*** Saved checkpoint checkpoints/rnn.pt at epoch 2\n",
      "ACT I. What thou art so the\n",
      "    subdect of the most ready of the state.\n",
      "  Lear. How shall be show th\n",
      "--- EPOCH 3/50 ---\n",
      "train_batch (Avg. Loss 1.373, Accuracy 58.7): 100%|██████████| 1394/1394 [04:08<00:00,  5.62it/s]\n",
      "test_batch (Avg. Loss 1.448, Accuracy 56.1): 100%|██████████| 154/154 [00:09<00:00, 16.17it/s]\n",
      "*** Saved checkpoint checkpoints/rnn.pt at epoch 3\n",
      "ACT I. SCENE IV\n",
      "\n",
      "Enter PERDONIUS and ANTIPHOLUS\n",
      "\n",
      "                                                  E\n",
      "--- EPOCH 4/50 ---\n",
      "train_batch (Avg. Loss 1.331, Accuracy 59.8): 100%|██████████| 1394/1394 [04:08<00:00,  5.60it/s]\n",
      "test_batch (Avg. Loss 1.417, Accuracy 56.9): 100%|██████████| 154/154 [00:09<00:00, 16.17it/s]\n",
      "*** Saved checkpoint checkpoints/rnn.pt at epoch 4\n",
      "ACT I. Bardolph\n",
      "                                                                                    \n",
      "--- EPOCH 5/50 ---\n",
      "train_batch (Avg. Loss 1.304, Accuracy 60.5): 100%|██████████| 1394/1394 [04:08<00:00,  5.62it/s]\n",
      "test_batch (Avg. Loss 1.392, Accuracy 57.6): 100%|██████████| 154/154 [00:09<00:00, 16.22it/s]\n",
      "*** Saved checkpoint checkpoints/rnn.pt at epoch 5\n",
      "ACT I. What say you are to be the man\n",
      "                                            The court of great\n",
      "--- EPOCH 6/50 ---\n",
      "train_batch (Avg. Loss 1.284, Accuracy 60.9): 100%|██████████| 1394/1394 [04:09<00:00,  5.60it/s]\n",
      "test_batch (Avg. Loss 1.375, Accuracy 58.0): 100%|██████████| 154/154 [00:09<00:00, 16.20it/s]\n",
      "*** Saved checkpoint checkpoints/rnn.pt at epoch 6\n",
      "ACT I. Shall out of the palates\n",
      "  A bed would be so glad to the state of the fiest\n",
      "    Shall stretch\n",
      "--- EPOCH 7/50 ---\n",
      "train_batch (Avg. Loss 1.269, Accuracy 61.3): 100%|██████████| 1394/1394 [04:09<00:00,  5.58it/s]\n",
      "test_batch (Avg. Loss 1.360, Accuracy 58.3): 100%|██████████| 154/154 [00:09<00:00, 15.77it/s]\n",
      "*** Saved checkpoint checkpoints/rnn.pt at epoch 7\n",
      "ACT I.\n",
      "I will be so.\n",
      "\n",
      "SCENE III.\n",
      "The braver and the DUKE OF YORK:\n",
      "You shall be here to see thee in t\n",
      "--- EPOCH 8/50 ---\n",
      "train_batch (Avg. Loss 1.257, Accuracy 61.6): 100%|██████████| 1394/1394 [04:09<00:00,  5.58it/s]\n",
      "test_batch (Avg. Loss 1.350, Accuracy 58.6): 100%|██████████| 154/154 [00:09<00:00, 16.18it/s]\n",
      "*** Saved checkpoint checkpoints/rnn.pt at epoch 8\n",
      "ACT I. Speak to the Duke\n",
      "\n",
      "  BRUTUS. Here comes this common man.\n",
      "    The Duke of York shall die to hi\n",
      "--- EPOCH 9/50 ---\n",
      "train_batch (Avg. Loss 1.247, Accuracy 61.9): 100%|██████████| 1394/1394 [04:07<00:00,  5.62it/s]\n",
      "test_batch (Avg. Loss 1.344, Accuracy 58.7): 100%|██████████| 154/154 [00:09<00:00, 16.22it/s]\n",
      "*** Saved checkpoint checkpoints/rnn.pt at epoch 9\n",
      "ACT I. Make the third LAUNCE\n",
      "\n",
      "  PISTOL. The King hath crack'd you, sir, that I should have\n",
      "    so th\n",
      "--- EPOCH 10/50 ---\n",
      "train_batch (Avg. Loss 1.239, Accuracy 62.1): 100%|██████████| 1394/1394 [04:10<00:00,  5.57it/s]\n",
      "test_batch (Avg. Loss 1.338, Accuracy 58.9): 100%|██████████| 154/154 [00:09<00:00, 16.20it/s]\n",
      "*** Saved checkpoint checkpoints/rnn.pt at epoch 10\n",
      "ACT I. Sir, I will die at the root\n",
      "  A bondam and the market and a strange place.\n",
      "\n",
      "Enter Pate, his h\n",
      "--- EPOCH 11/50 ---\n",
      "train_batch (Avg. Loss 1.231, Accuracy 62.3): 100%|██████████| 1394/1394 [04:10<00:00,  5.57it/s]\n",
      "test_batch (Avg. Loss 1.332, Accuracy 59.1): 100%|██████████| 154/154 [00:09<00:00, 16.05it/s]\n",
      "*** Saved checkpoint checkpoints/rnn.pt at epoch 11\n",
      "ACT I. Charles the DUKE OF YORK\n",
      "\n",
      "  FIRST GENTLEMAN. The surper in the hand of him, and let\n",
      "    it so\n",
      "--- EPOCH 12/50 ---\n",
      "train_batch (Avg. Loss 1.225, Accuracy 62.4): 100%|██████████| 1394/1394 [04:09<00:00,  5.59it/s]\n",
      "test_batch (Avg. Loss 1.326, Accuracy 59.2): 100%|██████████| 154/154 [00:09<00:00, 16.21it/s]\n",
      "*** Saved checkpoint checkpoints/rnn.pt at epoch 12\n",
      "ACT I.\n",
      "Exeunt\n",
      "\n",
      "SCENE IV.\n",
      "A care to come to the wars of the hand.\n",
      "\n",
      "Enter Horatio, I will be so for hi\n",
      "--- EPOCH 13/50 ---\n",
      "train_batch (Avg. Loss 1.219, Accuracy 62.6): 100%|██████████| 1394/1394 [04:08<00:00,  5.60it/s]\n",
      "test_batch (Avg. Loss 1.320, Accuracy 59.4): 100%|██████████| 154/154 [00:09<00:00, 15.76it/s]\n",
      "*** Saved checkpoint checkpoints/rnn.pt at epoch 13\n",
      "ACT I. Sir, we will not be a man,\n",
      "And good to the man of the tance.\n",
      "\n",
      "Enter Princes, and the Bonates \n",
      "--- EPOCH 14/50 ---\n",
      "train_batch (Avg. Loss 1.214, Accuracy 62.7): 100%|██████████| 1394/1394 [04:11<00:00,  5.54it/s]\n",
      "test_batch (Avg. Loss 1.318, Accuracy 59.5): 100%|██████████| 154/154 [00:09<00:00, 16.05it/s]\n",
      "*** Saved checkpoint checkpoints/rnn.pt at epoch 14\n",
      "ACT I.\n",
      "And the Prince of Saint Albans and Lord Marshal,\n",
      "Which he comes the reason and the days of La\n",
      "--- EPOCH 15/50 ---\n",
      "train_batch (Avg. Loss 1.209, Accuracy 62.8): 100%|██████████| 1394/1394 [04:09<00:00,  5.59it/s]\n",
      "test_batch (Avg. Loss 1.313, Accuracy 59.6): 100%|██████████| 154/154 [00:09<00:00, 16.02it/s]\n",
      "*** Saved checkpoint checkpoints/rnn.pt at epoch 15\n",
      "ACT I. And so I can be a good constant.\n",
      "\n",
      "Enter Leonato, what is he that hath made the duke of\n",
      "    th\n",
      "--- EPOCH 16/50 ---\n",
      "train_batch (Avg. Loss 1.205, Accuracy 62.9): 100%|██████████| 1394/1394 [04:09<00:00,  5.58it/s]\n",
      "test_batch (Avg. Loss 1.311, Accuracy 59.7): 100%|██████████| 154/154 [00:09<00:00, 15.85it/s]\n",
      "*** Saved checkpoint checkpoints/rnn.pt at epoch 16\n",
      "ACT I. SCENE I.\n",
      "Before the DUKE OF YORK\n",
      "\n",
      "  SECOND GENTLEMAN. And this is the man men and some sorrow\n",
      "--- EPOCH 17/50 ---\n",
      "train_batch (Avg. Loss 1.201, Accuracy 63.0): 100%|██████████| 1394/1394 [04:11<00:00,  5.53it/s]\n",
      "test_batch (Avg. Loss 1.307, Accuracy 59.7): 100%|██████████| 154/154 [00:09<00:00, 16.03it/s]\n",
      "*** Saved checkpoint checkpoints/rnn.pt at epoch 17\n",
      "ACT I.\n",
      "\n",
      "Enter Holimates. The place be so for the sweeter lord.\n",
      "  Fal. I say to make the before the d\n",
      "--- EPOCH 18/50 ---\n",
      "train_batch (Avg. Loss 1.198, Accuracy 63.1): 100%|██████████| 1394/1394 [04:09<00:00,  5.59it/s]\n",
      "test_batch (Avg. Loss 1.306, Accuracy 59.8): 100%|██████████| 154/154 [00:09<00:00, 16.21it/s]\n",
      "*** Saved checkpoint checkpoints/rnn.pt at epoch 18\n",
      "ACT I.\n",
      "\n",
      "Alarum. Enter CORIOLANUS, and SEBASTIAN, ANTONY, the French dead as the DUKE OF YORK\n",
      "\n",
      "  GREM\n",
      "--- EPOCH 19/50 ---\n",
      "train_batch (Avg. Loss 1.194, Accuracy 63.2): 100%|██████████| 1394/1394 [04:10<00:00,  5.55it/s]\n",
      "test_batch (Avg. Loss 1.300, Accuracy 59.9): 100%|██████████| 154/154 [00:09<00:00, 16.02it/s]\n",
      "*** Saved checkpoint checkpoints/rnn.pt at epoch 19\n",
      "ACT I.\n",
      "\n",
      "Alarum.\n",
      "\n",
      "Enter the KING and TRINCULO. One that shall see my father\n",
      "     Of the matter of the\n",
      "--- EPOCH 20/50 ---\n",
      "train_batch (Avg. Loss 1.192, Accuracy 63.2): 100%|██████████| 1394/1394 [04:11<00:00,  5.54it/s]\n",
      "test_batch (Avg. Loss 1.299, Accuracy 59.9): 100%|██████████| 154/154 [00:09<00:00, 15.99it/s]\n",
      "ACT I. STENTUS\n",
      "\n",
      "SCENE VII.\n",
      "Rome. The place doth the DUKE OF YORK, and Albian\n",
      "\n",
      "  TITUS. I know the pa\n",
      "--- EPOCH 21/50 ---\n",
      "train_batch (Avg. Loss 1.189, Accuracy 63.3): 100%|██████████| 1394/1394 [04:11<00:00,  5.54it/s]\n",
      "test_batch (Avg. Loss 1.295, Accuracy 60.0): 100%|██████████| 154/154 [00:09<00:00, 16.00it/s]\n",
      "*** Saved checkpoint checkpoints/rnn.pt at epoch 21\n",
      "ACT I.\n",
      "\n",
      "Enter Romeo. What an island of the Duke of York?\n",
      "\n",
      "  TITUS. I cannot now the fellow will not \n",
      "--- EPOCH 22/50 ---\n",
      "train_batch (Avg. Loss 1.186, Accuracy 63.4): 100%|██████████| 1394/1394 [04:11<00:00,  5.53it/s]\n",
      "test_batch (Avg. Loss 1.294, Accuracy 60.1): 100%|██████████| 154/154 [00:09<00:00, 16.05it/s]\n",
      "*** Saved checkpoint checkpoints/rnn.pt at epoch 22\n",
      "ACT I. Speak in the world\n",
      "\n",
      "Enter ONTEPHAN, and MARCUS\n",
      "\n",
      "  SIR TOBY. And you may be before the first o\n",
      "--- EPOCH 23/50 ---\n",
      "train_batch (Avg. Loss 1.184, Accuracy 63.4): 100%|██████████| 1394/1394 [04:21<00:00,  5.34it/s]\n",
      "test_batch (Avg. Loss 1.292, Accuracy 60.1): 100%|██████████| 154/154 [00:10<00:00, 15.26it/s]\n",
      "*** Saved checkpoint checkpoints/rnn.pt at epoch 23\n",
      "ACT I.\n",
      "\n",
      "All LORDS and ANTONIO and the DUKE OF YORK, and BASTARD, and HELENA\n",
      "\n",
      "ANTIPHOLUS OF EPHESUS. \n",
      "--- EPOCH 24/50 ---\n",
      "train_batch (Avg. Loss 1.182, Accuracy 63.5): 100%|██████████| 1394/1394 [04:29<00:00,  5.17it/s]\n",
      "test_batch (Avg. Loss 1.286, Accuracy 60.3): 100%|██████████| 154/154 [00:10<00:00, 14.45it/s]\n",
      "*** Saved checkpoint checkpoints/rnn.pt at epoch 24\n",
      "ACT I.\n",
      "\n",
      "ACT V. SCENE 1.\n",
      "\n",
      "London. The palace\n",
      "\n",
      "Enter a SERVANT. You are welcome to my hand, and the su\n",
      "--- EPOCH 25/50 ---\n",
      "train_batch (Avg. Loss 1.180, Accuracy 63.6): 100%|██████████| 1394/1394 [04:37<00:00,  5.02it/s]\n",
      "test_batch (Avg. Loss 1.288, Accuracy 60.2): 100%|██████████| 154/154 [00:10<00:00, 15.00it/s]\n",
      "ACT I. A street\n",
      "\n",
      "Enter CARDINAL, PUCK, and the the DUKE OF YORK\n",
      "\n",
      "  LUCIUS' SERVANT. For every man sh\n",
      "--- EPOCH 26/50 ---\n",
      "train_batch (Avg. Loss 1.178, Accuracy 63.6): 100%|██████████| 1394/1394 [04:41<00:00,  4.95it/s]\n",
      "test_batch (Avg. Loss 1.286, Accuracy 60.3): 100%|██████████| 154/154 [00:10<00:00, 14.94it/s]\n",
      "*** Saved checkpoint checkpoints/rnn.pt at epoch 26\n",
      "ACT I.\n",
      "\n",
      "Enter Hamlet up a boy.\n",
      "\n",
      "                                        Enter MARCUS\n",
      "\n",
      "  BERTRAM. If \n",
      "--- EPOCH 27/50 ---\n",
      "train_batch (Avg. Loss 1.176, Accuracy 63.7): 100%|██████████| 1394/1394 [04:37<00:00,  5.02it/s]\n",
      "test_batch (Avg. Loss 1.283, Accuracy 60.4): 100%|██████████| 154/154 [00:10<00:00, 14.73it/s]\n",
      "*** Saved checkpoint checkpoints/rnn.pt at epoch 27\n",
      "ACT I.\n",
      "\n",
      "ACT I. SCENE 1.\n",
      "\n",
      "The Duke of Burines\n",
      "\n",
      "Enter MARIA and BIONDELLO\n",
      "\n",
      "  BARDOLPH. He was more car\n",
      "--- EPOCH 28/50 ---\n",
      "train_batch (Avg. Loss 1.174, Accuracy 63.7): 100%|██████████| 1394/1394 [04:26<00:00,  5.22it/s]\n",
      "test_batch (Avg. Loss 1.285, Accuracy 60.3): 100%|██████████| 154/154 [00:10<00:00, 15.35it/s]\n",
      "ACT I.\n",
      "A street.\n",
      "\n",
      "Enter SIR JOHN FRANCE, with the plot of ANTIPHOLUS OF EPHESUS\n",
      "  PROTEUS and ANTONY\n",
      "--- EPOCH 29/50 ---\n",
      "train_batch (Avg. Loss 1.173, Accuracy 63.7): 100%|██████████| 1394/1394 [04:33<00:00,  5.09it/s]\n",
      "test_batch (Avg. Loss 1.283, Accuracy 60.3): 100%|██████████| 154/154 [00:10<00:00, 14.37it/s]\n",
      "ACT I.\n",
      "\n",
      "  The Duke of Salisbury, and with Marcius is the world\n",
      "  And shall be presently before the c\n",
      "--- EPOCH 30/50 ---\n",
      "train_batch (Avg. Loss 1.171, Accuracy 63.8): 100%|██████████| 1394/1394 [04:41<00:00,  4.94it/s]\n",
      "test_batch (Avg. Loss 1.281, Accuracy 60.4): 100%|██████████| 154/154 [00:10<00:00, 14.54it/s]\n",
      "*** Saved checkpoint checkpoints/rnn.pt at epoch 30\n",
      "ACT I.\n",
      "\n",
      "  CAMILLO. The great action of the man is this deserts,\n",
      "    When he will come and call me sa\n",
      "--- EPOCH 31/50 ---\n",
      "train_batch (Avg. Loss 1.170, Accuracy 63.8): 100%|██████████| 1394/1394 [04:39<00:00,  4.99it/s]\n",
      "test_batch (Avg. Loss 1.279, Accuracy 60.5): 100%|██████████| 154/154 [00:10<00:00, 15.02it/s]\n",
      "*** Saved checkpoint checkpoints/rnn.pt at epoch 31\n",
      "ACT I.\n",
      "\n",
      "  CAMILLO. He is not better like a proper man.\n",
      "  MARCUS. I will not die that man that has lo\n",
      "--- EPOCH 32/50 ---\n",
      "train_batch (Avg. Loss 1.168, Accuracy 63.9): 100%|██████████| 1394/1394 [04:34<00:00,  5.07it/s]\n",
      "test_batch (Avg. Loss 1.279, Accuracy 60.4): 100%|██████████| 154/154 [00:10<00:00, 15.03it/s]\n",
      "ACT I.\n",
      "\n",
      "Enter Lear, his brother of Lear. Do I suppose the great officer, and the KING\n",
      "\n",
      "  HELENA. I k\n",
      "--- EPOCH 33/50 ---\n",
      "train_batch (Avg. Loss 1.167, Accuracy 63.9): 100%|██████████| 1394/1394 [04:35<00:00,  5.06it/s]\n",
      "test_batch (Avg. Loss 1.278, Accuracy 60.6): 100%|██████████| 154/154 [00:10<00:00, 15.01it/s]\n",
      "*** Saved checkpoint checkpoints/rnn.pt at epoch 33\n",
      "ACT I. A most conscience and Rome\n",
      "\n",
      "Enter CAESAR'S house\n",
      "\n",
      "                                           \n",
      "--- EPOCH 34/50 ---\n",
      "train_batch (Avg. Loss 1.166, Accuracy 63.9): 100%|██████████| 1394/1394 [04:34<00:00,  5.08it/s]\n",
      "test_batch (Avg. Loss 1.279, Accuracy 60.5): 100%|██████████| 154/154 [00:10<00:00, 14.90it/s]\n",
      "ACT I.\n",
      "A man better of the court:\n",
      "The praise of English Cassio and his cause\n",
      "\n",
      "Enter DEMETRIUS, and B\n",
      "--- EPOCH 35/50 ---\n",
      "train_batch (Avg. Loss 1.165, Accuracy 63.9): 100%|██████████| 1394/1394 [04:38<00:00,  5.01it/s]\n",
      "test_batch (Avg. Loss 1.277, Accuracy 60.5): 100%|██████████| 154/154 [00:10<00:00, 14.66it/s]\n",
      "ACT I.\n",
      "A the SON as the GREY and others\n",
      "\n",
      "  SIR TOBY. And there are the day of death with the third a\n",
      "--- EPOCH 36/50 ---\n",
      "train_batch (Avg. Loss 1.163, Accuracy 64.0): 100%|██████████| 1394/1394 [04:39<00:00,  4.98it/s]\n",
      "test_batch (Avg. Loss 1.278, Accuracy 60.5): 100%|██████████| 154/154 [00:10<00:00, 14.67it/s]\n",
      "ACT I.\n",
      "\n",
      "CATESBY:\n",
      "I must not be a word, and what I shall be sure;\n",
      "And yet I will out of the thought o\n",
      "--- EPOCH 37/50 ---\n",
      "train_batch (Avg. Loss 1.162, Accuracy 64.0): 100%|██████████| 1394/1394 [04:40<00:00,  4.97it/s]\n",
      "test_batch (Avg. Loss 1.275, Accuracy 60.6): 100%|██████████| 154/154 [00:10<00:00, 14.62it/s]\n",
      "*** Saved checkpoint checkpoints/rnn.pt at epoch 37\n",
      "ACT I.\n",
      "\n",
      "  Hot. I will go see thee. And if you have no more than the devil\n",
      "    of the world with thee\n",
      "--- EPOCH 38/50 ---\n",
      "train_batch (Avg. Loss 1.161, Accuracy 64.0): 100%|██████████| 1394/1394 [04:41<00:00,  4.96it/s]\n",
      "test_batch (Avg. Loss 1.275, Accuracy 60.6): 100%|██████████| 154/154 [00:10<00:00, 14.65it/s]\n",
      "ACT I.\n",
      "A palace play content to say to the King's cardinal and drums\n",
      "  A Thare to Berkeley, and othe\n",
      "--- EPOCH 39/50 ---\n",
      "train_batch (Avg. Loss 1.160, Accuracy 64.1): 100%|██████████| 1394/1394 [04:41<00:00,  4.95it/s]\n",
      "test_batch (Avg. Loss 1.272, Accuracy 60.7): 100%|██████████| 154/154 [00:10<00:00, 14.61it/s]\n",
      "*** Saved checkpoint checkpoints/rnn.pt at epoch 39\n",
      "ACT I.\n",
      "A street:\n",
      "The gods are most right work of complaints,\n",
      "And say 'Be hang'd, and with the house \n",
      "--- EPOCH 40/50 ---\n",
      "train_batch (Avg. Loss 1.159, Accuracy 64.1): 100%|██████████| 1394/1394 [04:40<00:00,  4.97it/s]\n",
      "test_batch (Avg. Loss 1.273, Accuracy 60.6): 100%|██████████| 154/154 [00:10<00:00, 15.03it/s]\n",
      "ACT I.\n",
      "\n",
      "CATUSTEN:\n",
      "O spare here the leaf to see thy place in them;\n",
      "And therefore stand to grant our s\n",
      "--- EPOCH 41/50 ---\n",
      "train_batch (Avg. Loss 1.158, Accuracy 64.1): 100%|██████████| 1394/1394 [04:37<00:00,  5.03it/s]\n",
      "test_batch (Avg. Loss 1.274, Accuracy 60.6): 100%|██████████| 154/154 [00:11<00:00, 13.84it/s]\n",
      "ACT I.\n",
      "A the BISHOP OF ELY. The sport of the good heart the pride of graces\n",
      "    In every trick of hi\n",
      "--- EPOCH 42/50 ---\n",
      "train_batch (Avg. Loss 1.157, Accuracy 64.1): 100%|██████████| 1394/1394 [04:35<00:00,  5.07it/s]\n",
      "test_batch (Avg. Loss 1.270, Accuracy 60.7): 100%|██████████| 154/154 [00:10<00:00, 15.06it/s]\n",
      "*** Saved checkpoint checkpoints/rnn.pt at epoch 42\n",
      "ACT I.\n",
      "A street:\n",
      "So much of my life to say thou last at heart.\n",
      "\n",
      "KING RICHARD III:\n",
      "I do not know the \n",
      "--- EPOCH 43/50 ---\n",
      "train_batch (Avg. Loss 1.156, Accuracy 64.1): 100%|██████████| 1394/1394 [04:25<00:00,  5.25it/s]\n",
      "test_batch (Avg. Loss 1.270, Accuracy 60.7): 100%|██████████| 154/154 [00:09<00:00, 15.62it/s]\n",
      "ACT I.\n",
      "The DUKE'S palace\n",
      "\n",
      "Enter DEMETRIUS, SERVANT, and the QUEEN and GLOUCESTER\n",
      "\n",
      "    He hath entert\n",
      "--- EPOCH 44/50 ---\n",
      "train_batch (Avg. Loss 1.156, Accuracy 64.2): 100%|██████████| 1394/1394 [04:27<00:00,  5.22it/s]\n",
      "test_batch (Avg. Loss 1.268, Accuracy 60.8): 100%|██████████| 154/154 [00:09<00:00, 15.60it/s]\n",
      "*** Saved checkpoint checkpoints/rnn.pt at epoch 44\n",
      "ACT I.\n",
      "A the state. Enter ANTONY and CAMILLO, and PORTIA, with CAMILLO\n",
      "\n",
      "  FIRST GENTLEMAN. I will be\n",
      "--- EPOCH 45/50 ---\n",
      "train_batch (Avg. Loss 1.155, Accuracy 64.2): 100%|██████████| 1394/1394 [04:18<00:00,  5.40it/s]\n",
      "test_batch (Avg. Loss 1.271, Accuracy 60.7): 100%|██████████| 154/154 [00:09<00:00, 16.18it/s]\n",
      "ACT I.\n",
      "A hand of the earth and strength of Troilus and the sap\n",
      "The place of the good Duke of BRUTUS,\n",
      "--- EPOCH 46/50 ---\n",
      "train_batch (Avg. Loss 1.154, Accuracy 64.2): 100%|██████████| 1394/1394 [04:08<00:00,  5.60it/s]\n",
      "test_batch (Avg. Loss 1.269, Accuracy 60.7): 100%|██████████| 154/154 [00:09<00:00, 16.18it/s]\n",
      "ACT I.\n",
      "A street and counsel of the steps of Marsanger,\n",
      "His voice of Capulet's army with others.\n",
      "\n",
      "Ent\n",
      "--- EPOCH 47/50 ---\n",
      "train_batch (Avg. Loss 1.153, Accuracy 64.2): 100%|██████████| 1394/1394 [04:09<00:00,  5.59it/s]\n",
      "test_batch (Avg. Loss 1.269, Accuracy 60.8): 100%|██████████| 154/154 [00:09<00:00, 16.16it/s]\n",
      "*** Saved checkpoint checkpoints/rnn.pt at epoch 47\n",
      "ACT I.\n",
      "\n",
      "  Camillo. The commons of your brother will stand at the wager.\n",
      "  Gent. Ay, and the shame of\n",
      "--- EPOCH 48/50 ---\n",
      "train_batch (Avg. Loss 1.153, Accuracy 64.2): 100%|██████████| 1394/1394 [04:09<00:00,  5.59it/s]\n",
      "test_batch (Avg. Loss 1.267, Accuracy 60.8): 100%|██████████| 154/154 [00:09<00:00, 15.96it/s]\n",
      "*** Saved checkpoint checkpoints/rnn.pt at epoch 48\n",
      "ACT I.\n",
      "Marcius Lucius.\n",
      "\n",
      "Enter Servants.\n",
      "  Cor. The coming of the second sea-composion.\n",
      "  Bene. Would\n",
      "--- EPOCH 49/50 ---\n",
      "train_batch (Avg. Loss 1.152, Accuracy 64.3): 100%|██████████| 1394/1394 [04:14<00:00,  5.49it/s]\n",
      "test_batch (Avg. Loss 1.267, Accuracy 60.8): 100%|██████████| 154/154 [00:09<00:00, 15.86it/s]\n",
      "ACT I.\n",
      "A street, and sullen, and the virtue of the walls\n",
      "\n",
      "  KING HENRY. What is that dog, and frame \n",
      "--- EPOCH 50/50 ---\n",
      "train_batch (Avg. Loss 1.151, Accuracy 64.3): 100%|██████████| 1394/1394 [04:13<00:00,  5.49it/s]\n",
      "test_batch (Avg. Loss 1.269, Accuracy 60.8): 100%|██████████| 154/154 [00:09<00:00, 15.48it/s]\n",
      "ACT I.\n",
      "A street before the throne and all the cares and his batter the torches of the city\n",
      "\n",
      "Enter th\n"
     ]
    },
    {
     "data": {
      "image/png": "[encoded data removed]",
      "text/plain": [
       "<Figure size 1600x1000 with 4 Axes>"
      ]
     },
     "metadata": {},
     "output_type": "display_data"
    }
   ],
   "source": [
    "from cs236781.plot import plot_fit\n",
    "\n",
    "def post_epoch_fn(epoch, train_res, test_res, verbose):\n",
    "    # Update learning rate\n",
    "    scheduler.step(test_res.accuracy)\n",
    "    # Sample from model to show progress\n",
    "    if verbose:\n",
    "        start_seq = \"ACT I.\"\n",
    "        generated_sequence = charnn.generate_from_model(\n",
    "            model, start_seq, 100, (char_to_idx,idx_to_char), T=0.5\n",
    "        )\n",
    "        print(generated_sequence)\n",
    "\n",
    "# Train, unless final checkpoint is found\n",
    "checkpoint_file_final = f'{checkpoint_file}_final.pt'\n",
    "if os.path.isfile(checkpoint_file_final):\n",
    "    print(f'*** Loading final checkpoint file {checkpoint_file_final} instead of training')\n",
    "    saved_state = torch.load(checkpoint_file_final, map_location=device)\n",
    "    model.load_state_dict(saved_state['model_state'])\n",
    "else:\n",
    "    try:\n",
    "        # Print pre-training sampling\n",
    "        print(charnn.generate_from_model(model, \"ACT I.\", 100, (char_to_idx,idx_to_char), T=0.5))\n",
    "\n",
    "        fit_res = trainer.fit(dl_train, dl_test, num_epochs, max_batches=None,\n",
    "                              post_epoch_fn=post_epoch_fn, early_stopping=early_stopping,\n",
    "                              checkpoints=checkpoint_file, print_every=1)\n",
    "        \n",
    "        fig, axes = plot_fit(fit_res)\n",
    "    except KeyboardInterrupt as e:\n",
    "        print('\\n *** Training interrupted by user')"
   ]
  },
  {
   "cell_type": "markdown",
   "metadata": {},
   "source": [
    "### Generating a work of art\n",
    "<a id=part1_8></a>"
   ]
  },
  {
   "cell_type": "markdown",
   "metadata": {},
   "source": [
    "Armed with our fully trained model, let's generate the next Hamlet! You should experiment with modifying the sampling temperature and see what happens.\n",
    "\n",
    "The text you generate should “look” like a Shakespeare play:\n",
    "old-style English words and sentence structure, directions for the actors\n",
    "(like “Exit/Enter”), sections (Act I/Scene III) etc.\n",
    "There will be no coherent plot of course, but it should at least seem like\n",
    "a Shakespearean play when not looking too closely.\n",
    "If this is not what you see, go back, debug and/or and re-train.\n",
    "\n",
    "**TODO**: Specify the generation parameters in the `part1_generation_params()` function within the `hw3/answers.py` module."
   ]
  },
  {
   "cell_type": "code",
   "execution_count": 21,
   "metadata": {},
   "outputs": [
    {
     "name": "stdout",
     "output_type": "stream",
     "text": [
      "FINAL ACT. I' the conscience\n",
      "                                                                                                                                             \n",
      "                                                                                                                                      Exit\n",
      "\n",
      "SCENE II.\n",
      "The field.\n",
      "\n",
      "Enter the DUKE OF YORK, and SOLDIERS\n",
      "\n",
      "    The which you shall be sure to whom you shall\n",
      "    Consider that it is so such a man\n",
      "    That I was as the way to the shurwice.\n",
      "    I am dead all the Duke of Salisbury.\n",
      "    The man is like the windows in the world.\n",
      "    The King that knows his son of mine own house.\n",
      "    No, no matter, the truth is dead to stay.\n",
      "    And thou dost think the company of your bed,\n",
      "    Which doth encounter the present traitor's breast\n",
      "    As I am so much and there is a state\n",
      "    That shall be pried in the passion of the way.\n",
      "    Therefore be plain, and great sack with a word\n",
      "    To see the wind shall be a good day well;\n",
      "    We are but such a will that can command\n",
      "    From him that hath a servant to the man.\n",
      "    He shall be so to speak to the King,  \n",
      "    Where we should have set down the blood in thee.\n",
      "    What shall I see the instant with the man,\n",
      "    Did set down and dead and run the wars of love\n",
      "    That have been better of his life in heaven,\n",
      "    And you discover me to make the hands\n",
      "    Is not in the true and traitor's blood\n",
      "    With all the sense of many a subject should\n",
      "    Be so far offered better like the boy\n",
      "    That has the spirit of marriage to stand blood,\n",
      "    And stand and struck the door of him that should\n",
      "    Have been as sure of thy troth of the cause\n",
      "    To stay to see the world did live and show\n",
      "    The honour of the state of it with me.\n",
      "    I cannot tell the way to the father hath here.\n",
      "    The proud of the cannot be and so much\n",
      "    Go you to the King, and where the rest did shall\n",
      "    Shall be as strange and passion of the house.\n",
      "    I will not leave the French was well to know.\n",
      "    And for for this is that the man is better\n",
      "    Than to the truth of my desire.\n",
      "  PROTEUS. She is not so receiv'd; and yet he does,\n",
      "    I would not be such a man of my son.\n",
      "    Where is the man of this, he will say the change.\n",
      "    I shall be say I shall know him.\n",
      "    I cannot fleet the world but for the world,\n",
      "    And you are come to do not that I day.\n",
      "    Am I the world to stand with the world from me?\n",
      "    The Duke of Sir John, I will not say he cannot\n",
      "    To this and great country in the death of heaven.\n",
      "    I pray you, sir, I never had a gentleman.\n",
      "  CASSIUS. Hang thou with that my duty!\n",
      "    He shall be such as ever the sea-cannot in,\n",
      "    Which hath some through the state of day of crown.\n",
      "    There is no longer than the common man\n",
      "    And hollow thinking how the shame is with\n",
      "    The strange things of a man at home to present,\n",
      "    That we will stand at mine own present speech;\n",
      "    And when the princes of his princes on her,\n",
      "    I cannot be the better to command,\n",
      "    Which I might be abused with the house,\n",
      "    And such a common crows and every heart.\n",
      "    Look to your trusty lord, the more deserved\n",
      "    That will be wasted as in the water of a state,\n",
      "    Because the field of course of thee and hearts,\n",
      "    That cry 'Stanger with the staff and men of all!\n",
      "    The sun rasclips are as a charge in shore\n",
      "    With him the steeds of love, and men are straight,\n",
      "    And the shame be so well as flatterers,\n",
      "    And have a part of faith, and in the state\n",
      "    The order of the battles of the man\n",
      "    That hath made soldiers and my father's heart.\n",
      "  IAGO. And she has done me sure that you shall draw\n",
      "    The state and his soul that can rather do it.\n",
      "    And then, whom I will see the which the common\n",
      "    Who would be as in my desire to hear.\n",
      "    The old but of the holy present safety,\n",
      "    Which we will speak to thee and hear the name;\n",
      "    And it were brought the instant of the pale,\n",
      "    Let me be sun that strange enterprises have nothing\n",
      "    By this world stand to see my love of them.\n",
      "    I will not be your hand, and in thy men\n",
      "    Have got the world of summer's beggary.\n",
      "    What is the borrowed kingdom? Wherefore do you live?\n",
      "    And there is honesty and slave to seek him\n",
      "    Which should be stand against the hand of her;\n",
      "    Therefore can die which they shall see the case.\n",
      "                                                                              Exeunt\n",
      "\n",
      "SCENE II.\n",
      "A man.\n",
      "\n",
      "Enter Hotspur is a better the DUKE OF BULBBY\n",
      "  SALISBURY. Have we the wind of this slave of the world\n",
      "    That have no more conceit of him that should\n",
      "    Can be a prophet to a woman's heart\n",
      "    And hither to a case to be as she shall find\n",
      "    So many men and me as we be well.\n",
      "    Thou speak'st respect in my father with the devil,\n",
      "    The sun that hath deceiv'd the market heart\n",
      "    And true to the heart that shall prove a grave,\n",
      "    And come to the same deep, so much to do,\n",
      "    And make the state of heaven be worthy of him.\n",
      "    What is the right of sight? I know not what.\n",
      "    If he say so, as he will not be sorry\n",
      "    Than the heavens proceed.\n",
      "    Your honour have I spent the first of that\n",
      "    Is the rest to the strange search of my life.\n",
      "    And you shall give you than the lady's day\n",
      "    As the execution of the same of this,\n",
      "    And there be souls of peace, and blood and fire\n",
      "    Than what she be as wont to be as man,\n",
      "    Then will you to the world and happiness\n",
      "    And warn a morning of the other are\n",
      "    That was the strange of me?\n",
      "  LORENZO. No, no; your brother, I will reason him.\n",
      "    Where is the world the praise that may be so?\n",
      "    But you come to me, and he shall be so.\n",
      "  PANDULPH. You have set our fortune is the fair of him.\n",
      "    I know not on the gods and all his master\n",
      "    To see the wars with thee. I will not prove\n",
      "    What I shall stand by him.\n",
      "  CASSIUS. I pray you, sir, he offer on between the friends.\n",
      "    I do not know your life, I am more well.\n",
      "    And I'll see that the house of York has done.\n",
      "    But I am sorry to the face that should have\n",
      "    As great such shame of Caesar's son and several hours\n",
      "    With state of father's most true welcome that\n",
      "    That hath a happy days against the ground\n",
      "    And rather with the work and hands the countenance\n",
      "    In such a prouder which I see the state\n",
      "    Of heaven be spoken, and the same surprise\n",
      "    That dare not fear the more of their commoning,\n",
      "    And not the happy state of day and such\n",
      "    Which I have no heart by my hands and sounds,\n",
      "    Which have the sin of more than he was bound,\n",
      "    And every day is strange and well as like\n",
      "    And make the love his soul in his arms in him.\n",
      "    But shall I see the order comes to you?\n",
      "    And therefore shall he do as a word in the matter;\n",
      "    And when the sake of his infection shall\n",
      "    Have such a king here that he would not be\n",
      "    And shake our fear to stand to him.\n",
      "  MACBETH. Who cannot come on you?\n",
      "  PROTEUS. I pray you, sir, and know you the world and him\n",
      "    When you have seen her as a care that should be hang'd.\n",
      "  MARGARET. Well, I pray you, sir, the subject of him\n",
      "    Were set on the hall broke to do it this.\n",
      "    Then follow me the truth, and he is such\n",
      "    Upon the breath of this report to the store\n",
      "    To my own service and my sin so hard\n",
      "    To the army of a contrary to me.\n",
      "    I will not stay and be before the court.\n",
      "    There is no matter in the sun and heaven,\n",
      "    And we will have my father is a prince.\n",
      "    Go to him to my soul, not off it was.\n",
      "    I think I should speak with our complices,\n",
      "    Of any strange anchors can we to a band\n",
      "    You have a man that was a man and counsel of  \n",
      "    Where it is not a princely fortune of the earth\n",
      "    To make a care of such a substance.\n",
      "    If you should see the single welcome hath best kill'd,\n",
      "    And there is false to come again and banishment\n",
      "    With all his shame to strike the story of him.\n",
      "    How have you seen a pretty earth in love?\n",
      "    My shame hath dances in the world to me.\n",
      "    Have you not stay'd my head and mine own lady?\n",
      "    There is no sureties look on him present\n",
      "    The news a stone of that hath heard of her\n",
      "    To call his father stands against the King.\n",
      "    And what the grave of this discretion shall\n",
      "    A father's son and hearts of what they know the\n",
      "    Which is the death of the fair person of the provers\n",
      "    That I must strike a man in his contempt.\n",
      "    The court of this is but a man and men,\n",
      "    When they are comfort, who sees for the name\n",
      "    To call you to say that I shall not stay.\n",
      "    There is a soldier to a sin and right,\n",
      "    The sun with words in their dear true teeth;\n",
      "    And he did stand by the moon, and all this\n",
      "    Hath meant the world's deliver'd with such deeds\n",
      "    With this offender of his slave, a prince,\n",
      "    Hath been a word of his own convention.\n",
      "    Go, sir, and help the world in the world were.\n",
      "    Now let the best intents will find me war.\n",
      "    And I am sure, and you the world will be sure\n",
      "    Which we must bear the fair a stranger fear.\n",
      "    But that is not your honour and his master\n",
      "    That will compose the state of heaven and those\n",
      "    To be a place of blood as I will see.\n",
      "    Prove a show of such a passion and in that\n",
      "    And play the state of his defence and death,\n",
      "    To see the war when that they come to us.\n",
      "    Go thou with me to my approaches there.\n",
      "    The truth and hand is in the brain of souls,\n",
      "    And the people will be curst to safe.\n",
      "    For it shall stand as the rest of the care\n",
      "    To sing a place at it.\n",
      "  SUFFOLK. The very day is well as you shall stay.\n",
      "    The law of this endeavour writ at the world,\n",
      "    And he was not so fast on the brave Prince;\n",
      "    And yet we say, and to the court of graves,\n",
      "    Which should not be as this that the more common\n",
      "    As all the strength of all the party was gone.\n",
      "    But in thy master is not like his son,\n",
      "    That the shape of the death of your discourse  \n",
      "    That could not find him from his master with him.\n",
      "    Where is the man whereof the man hath made thee honour from\n",
      "    Many a death with their shadows of care?\n",
      "    My death is coming to the hands o' th' world,\n",
      "    If what th\n"
     ]
    }
   ],
   "source": [
    "from hw3.answers import part1_generation_params\n",
    "\n",
    "start_seq, temperature = part1_generation_params()\n",
    "\n",
    "generated_sequence = charnn.generate_from_model(\n",
    "    model, start_seq, 10000, (char_to_idx,idx_to_char), T=temperature\n",
    ")\n",
    "\n",
    "print(generated_sequence)"
   ]
  },
  {
   "cell_type": "markdown",
   "metadata": {},
   "source": [
    "## Questions\n",
    "<a id=part1_9></a>"
   ]
  },
  {
   "cell_type": "markdown",
   "metadata": {},
   "source": [
    "**TODO** Answer the following questions. Write your answers in the appropriate variables in the module `hw3/answers.py`."
   ]
  },
  {
   "cell_type": "code",
   "execution_count": 22,
   "metadata": {},
   "outputs": [],
   "source": [
    "from cs236781.answers import display_answer\n",
    "import hw3.answers"
   ]
  },
  {
   "cell_type": "markdown",
   "metadata": {},
   "source": [
    "### Question 1\n",
    "Why do we split the corpus into sequences instead of training on the whole text?"
   ]
  },
  {
   "cell_type": "code",
   "execution_count": 23,
   "metadata": {},
   "outputs": [
    {
     "data": {
      "text/markdown": [
       "\n",
       "We split the corpus into sequences instead of training on the whole text for the same reason we split to batches up until now- memory and generalization considerations.\\\n",
       "it would be memory intensive to load and train on the entire dataset at once (need to retain the data and the calculation graph), and it was shown that mini-batches can help the model generalize better.\\ \n",
       "Furthermore, BPTT on the entire text would be very slow and possibly cause vanishing gradients even when using a more advanced model like GRU.\n"
      ],
      "text/plain": [
       "<IPython.core.display.Markdown object>"
      ]
     },
     "metadata": {},
     "output_type": "display_data"
    }
   ],
   "source": [
    "display_answer(hw3.answers.part1_q1)"
   ]
  },
  {
   "cell_type": "markdown",
   "metadata": {},
   "source": [
    "### Question 2\n",
    "How is it possible that the generated text clearly shows memory longer than the sequence length?"
   ]
  },
  {
   "cell_type": "code",
   "execution_count": 24,
   "metadata": {},
   "outputs": [
    {
     "data": {
      "text/markdown": [
       "\n",
       "**Your answer:**\n",
       "Sequence length is limited but the context is retained in the hidden state. The hidden state can accumulate context from previous timestamps regardless of the sequence length, and be used to generate text with that context.\\\n",
       "\n"
      ],
      "text/plain": [
       "<IPython.core.display.Markdown object>"
      ]
     },
     "metadata": {},
     "output_type": "display_data"
    }
   ],
   "source": [
    "display_answer(hw3.answers.part1_q2)"
   ]
  },
  {
   "cell_type": "markdown",
   "metadata": {},
   "source": [
    "### Question 3\n",
    "Why are we not shuffling the order of batches when training?"
   ]
  },
  {
   "cell_type": "code",
   "execution_count": 25,
   "metadata": {},
   "outputs": [
    {
     "data": {
      "text/markdown": [
       "\n",
       "**Your answer:**\n",
       "In our implementation we orginized the batches is such a way that the sequences across batches are continuos (i.e sequence i in batch k is followed by sequence i in batch k+1).\\\n",
       "This provides the model coherent context to learn from, hopefully improving the quality of the generated text.\\\n"
      ],
      "text/plain": [
       "<IPython.core.display.Markdown object>"
      ]
     },
     "metadata": {},
     "output_type": "display_data"
    }
   ],
   "source": [
    "display_answer(hw3.answers.part1_q3)"
   ]
  },
  {
   "cell_type": "markdown",
   "metadata": {},
   "source": [
    "### Question 4\n",
    "1. Why do we lower the temperature for sampling (compared to the default of $1.0$)?\n",
    "2. What happens when the temperature is very high and why?\n",
    "3. What happens when the temperature is very low and why?"
   ]
  },
  {
   "cell_type": "code",
   "execution_count": 26,
   "metadata": {},
   "outputs": [
    {
     "data": {
      "text/markdown": [
       "\n",
       "**Your answer:**\n",
       "1.A drawback of the regular softmax (when T=1) is that it can generate very diffuse (more uniform) distributions if the score values are very similar. When sampling, we would prefer to control the distributions and make them less uniform to increase the chance of sampling the char(s) with the highest scores compared to the others by using T<1.\n",
       "\n",
       "2. When the temperature is high we will get a more uniform distribution, thus increasing the chances of sampling less probable chars giving the model a more 'random' behavior.\\\n",
       "\n",
       "3. When the temperature is low we will get a less uniform distribution, thus increasing the chances of sampling the most probable chars giving the model a more 'deterministic' behavior.\\\n",
       "\n"
      ],
      "text/plain": [
       "<IPython.core.display.Markdown object>"
      ]
     },
     "metadata": {},
     "output_type": "display_data"
    }
   ],
   "source": [
    "display_answer(hw3.answers.part1_q4)"
   ]
  }
 ],
 "metadata": {
  "kernelspec": {
   "display_name": "Python 3 (ipykernel)",
   "language": "python",
   "name": "python3"
  },
  "language_info": {
   "codemirror_mode": {
    "name": "ipython",
    "version": 3
   },
   "file_extension": ".py",
   "mimetype": "text/x-python",
   "name": "python",
   "nbconvert_exporter": "python",
   "pygments_lexer": "ipython3",
   "version": "3.8.12"
  }
 },
 "nbformat": 4,
 "nbformat_minor": 4
}
